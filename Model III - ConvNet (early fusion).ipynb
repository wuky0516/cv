{
 "cells": [
  {
   "cell_type": "code",
   "execution_count": 1,
   "id": "5ff7db18",
   "metadata": {},
   "outputs": [
    {
     "name": "stdout",
     "output_type": "stream",
     "text": [
      "{'dataset/2_crawling/crawling016.mp4': '2_crawling', 'dataset/2_crawling/crawling022.mp4': '2_crawling', 'dataset/2_crawling/crawling017.mp4': '2_crawling', 'dataset/2_crawling/crawling007.mp4': '2_crawling', 'dataset/2_crawling/crawling061.mp4': '2_crawling', 'dataset/2_crawling/crawling070.mp4': '2_crawling', 'dataset/2_crawling/crawling076.mp4': '2_crawling', 'dataset/2_crawling/crawling006.mp4': '2_crawling', 'dataset/2_crawling/crawling060.mp4': '2_crawling', 'dataset/2_crawling/crawling004.mp4': '2_crawling', 'dataset/2_crawling/crawling036.mp4': '2_crawling', 'dataset/2_crawling/crawling074.mp4': '2_crawling', 'dataset/2_crawling/crawling067.mp4': '2_crawling', 'dataset/2_crawling/crawling003.mp4': '2_crawling', 'dataset/2_crawling/crawling035.mp4': '2_crawling', 'dataset/2_crawling/crawling010.mp4': '2_crawling', 'dataset/2_crawling/crawling054.mp4': '2_crawling', 'dataset/2_crawling/crawling001.mp4': '2_crawling', 'dataset/2_crawling/crawling019.mp4': '2_crawling', 'dataset/2_crawling/crawling024.mp4': '2_crawling', 'dataset/2_crawling/crawling021.mp4': '2_crawling', 'dataset/2_crawling/crawling071.mp4': '2_crawling', 'dataset/2_crawling/crawling002.mp4': '2_crawling', 'dataset/2_crawling/crawling026.mp4': '2_crawling', 'dataset/2_crawling/crawling005.mp4': '2_crawling', 'dataset/2_crawling/crawling059.mp4': '2_crawling', 'dataset/2_crawling/crawling018.mp4': '2_crawling', 'dataset/2_crawling/crawling037.mp4': '2_crawling', 'dataset/2_crawling/crawling020.mp4': '2_crawling', 'dataset/3_crying/crying033.mp4': '3_crying', 'dataset/3_crying/crying024.mp4': '3_crying', 'dataset/3_crying/crying048.mp4': '3_crying', 'dataset/3_crying/crying038.mp4': '3_crying', 'dataset/3_crying/crying028.mp4': '3_crying', 'dataset/3_crying/crying029.mp4': '3_crying', 'dataset/3_crying/crying073.mp4': '3_crying', 'dataset/3_crying/crying037.mp4': '3_crying', 'dataset/3_crying/crying034.mp4': '3_crying', 'dataset/3_crying/crying022.mp4': '3_crying', 'dataset/3_crying/crying025.mp4': '3_crying', 'dataset/3_crying/crying002.mp4': '3_crying', 'dataset/3_crying/crying047.mp4': '3_crying', 'dataset/3_crying/crying042.mp4': '3_crying', 'dataset/3_crying/crying036.mp4': '3_crying', 'dataset/3_crying/crying021.mp4': '3_crying', 'dataset/3_crying/crying013.mp4': '3_crying', 'dataset/3_crying/crying015.mp4': '3_crying', 'dataset/3_crying/crying055.mp4': '3_crying', 'dataset/3_crying/crying019.mp4': '3_crying', 'dataset/3_crying/crying084.mp4': '3_crying', 'dataset/3_crying/crying068.mp4': '3_crying', 'dataset/3_crying/crying049.mp4': '3_crying', 'dataset/3_crying/crying046.mp4': '3_crying', 'dataset/3_crying/crying052.mp4': '3_crying', 'dataset/3_crying/crying085.mp4': '3_crying', 'dataset/3_crying/crying035.mp4': '3_crying', 'dataset/3_crying/crying056.mp4': '3_crying', 'dataset/3_crying/crying067.mp4': '3_crying', 'dataset/3_crying/crying010.mp4': '3_crying', 'dataset/3_crying/crying017.mp4': '3_crying', 'dataset/3_crying/crying054.mp4': '3_crying', 'dataset/3_crying/crying032.mp4': '3_crying', 'dataset/3_crying/crying079.mp4': '3_crying', 'dataset/3_crying/crying018.mp4': '3_crying', 'dataset/4_dancing/dancing006.mp4': '4_dancing', 'dataset/4_dancing/dancing019.mp4': '4_dancing', 'dataset/4_dancing/dancing027.mp4': '4_dancing', 'dataset/4_dancing/dancing005.mp4': '4_dancing', 'dataset/4_dancing/dancing007.mp4': '4_dancing', 'dataset/4_dancing/dancing010.mp4': '4_dancing', 'dataset/4_dancing/dancing013.mp4': '4_dancing', 'dataset/4_dancing/dancing023.mp4': '4_dancing', 'dataset/4_dancing/dancing024.mp4': '4_dancing', 'dataset/4_dancing/dancing020.mp4': '4_dancing', 'dataset/4_dancing/dancing003.mp4': '4_dancing', 'dataset/4_dancing/dancing008.mp4': '4_dancing', 'dataset/4_dancing/dancing002.mp4': '4_dancing', 'dataset/4_dancing/dancing014.mp4': '4_dancing', 'dataset/4_dancing/dancing004.mp4': '4_dancing', 'dataset/4_dancing/dancing022.mp4': '4_dancing', 'dataset/4_dancing/dancing017.mp4': '4_dancing', 'dataset/4_dancing/dancing025.mp4': '4_dancing', 'dataset/4_dancing/dancing009.mp4': '4_dancing', 'dataset/4_dancing/dancing011.mp4': '4_dancing', 'dataset/4_dancing/dancing016.mp4': '4_dancing', 'dataset/5_eating/eating023.mp4': '5_eating', 'dataset/5_eating/eating001.mp4': '5_eating', 'dataset/5_eating/eating020.mp4': '5_eating', 'dataset/5_eating/eating016.mp4': '5_eating', 'dataset/5_eating/eating017.mp4': '5_eating', 'dataset/5_eating/eating024.mp4': '5_eating', 'dataset/5_eating/eating021.mp4': '5_eating', 'dataset/5_eating/eating025.mp4': '5_eating', 'dataset/5_eating/eating010.mp4': '5_eating', 'dataset/5_eating/eating027.mp4': '5_eating', 'dataset/5_eating/eating014.mp4': '5_eating', 'dataset/5_eating/eating041.mp4': '5_eating', 'dataset/5_eating/eating026.mp4': '5_eating', 'dataset/5_eating/eating011.mp4': '5_eating', 'dataset/5_eating/eating015.mp4': '5_eating', 'dataset/5_eating/eating008.mp4': '5_eating', 'dataset/5_eating/eating022.mp4': '5_eating', 'dataset/5_eating/eating005.mp4': '5_eating', 'dataset/5_eating/eating038.mp4': '5_eating', 'dataset/5_eating/eating007.mp4': '5_eating', 'dataset/5_eating/eating032.mp4': '5_eating', 'dataset/7_falling_slide/falling_slide052.mp4': '7_falling_slide', 'dataset/7_falling_slide/falling_slide011.mp4': '7_falling_slide', 'dataset/7_falling_slide/falling_slide017.mp4': '7_falling_slide', 'dataset/7_falling_slide/falling_slide010.mp4': '7_falling_slide', 'dataset/7_falling_slide/falling_slide042.mp4': '7_falling_slide', 'dataset/7_falling_slide/falling_slide049.mp4': '7_falling_slide', 'dataset/7_falling_slide/falling_slide029.mp4': '7_falling_slide', 'dataset/7_falling_slide/falling_slide034.mp4': '7_falling_slide', 'dataset/7_falling_slide/falling_slide001.mp4': '7_falling_slide', 'dataset/7_falling_slide/falling_slide003.mp4': '7_falling_slide', 'dataset/7_falling_slide/falling_slide055.mp4': '7_falling_slide', 'dataset/7_falling_slide/falling_slide008.mp4': '7_falling_slide', 'dataset/7_falling_slide/falling_slide030.mp4': '7_falling_slide', 'dataset/7_falling_slide/falling_slide002.mp4': '7_falling_slide', 'dataset/7_falling_slide/falling_slide047.mp4': '7_falling_slide', 'dataset/7_falling_slide/falling_slide005.mp4': '7_falling_slide', 'dataset/7_falling_slide/falling_slide013.mp4': '7_falling_slide', 'dataset/7_falling_slide/falling_slide058.mp4': '7_falling_slide', 'dataset/7_falling_slide/falling_slide039.mp4': '7_falling_slide', 'dataset/7_falling_slide/falling_slide031.mp4': '7_falling_slide', 'dataset/7_falling_slide/falling_slide037.mp4': '7_falling_slide', 'dataset/7_falling_slide/falling_slide036.mp4': '7_falling_slide', 'dataset/7_falling_slide/falling_slide050.mp4': '7_falling_slide', 'dataset/7_falling_slide/falling_slide018.mp4': '7_falling_slide', 'dataset/7_falling_slide/falling_slide035.mp4': '7_falling_slide', 'dataset/7_falling_slide/falling_slide051.mp4': '7_falling_slide', 'dataset/7_falling_slide/falling_slide063.mp4': '7_falling_slide', 'dataset/7_falling_slide/falling_slide056.mp4': '7_falling_slide', 'dataset/7_falling_slide/falling_slide053.mp4': '7_falling_slide', 'dataset/7_falling_slide/falling_slide021.mp4': '7_falling_slide', 'dataset/7_falling_slide/falling_slide033.mp4': '7_falling_slide', 'dataset/7_falling_slide/falling_slide038.mp4': '7_falling_slide', 'dataset/7_falling_slide/falling_slide006.mp4': '7_falling_slide', 'dataset/7_falling_slide/falling_slide019.mp4': '7_falling_slide', 'dataset/7_falling_slide/falling_slide062.mp4': '7_falling_slide', 'dataset/7_falling_slide/falling_slide020.mp4': '7_falling_slide', 'dataset/7_falling_slide/falling_slide044.mp4': '7_falling_slide', 'dataset/7_falling_slide/falling_slide032.mp4': '7_falling_slide', 'dataset/7_falling_slide/falling_slide057.mp4': '7_falling_slide', 'dataset/8_falling/falling004.mp4': '8_falling', 'dataset/8_falling/falling109.mp4': '8_falling', 'dataset/8_falling/falling086.mp4': '8_falling', 'dataset/8_falling/falling055.mp4': '8_falling', 'dataset/8_falling/falling016.mp4': '8_falling', 'dataset/8_falling/falling061.mp4': '8_falling', 'dataset/8_falling/falling007.mp4': '8_falling', 'dataset/8_falling/falling080.mp4': '8_falling', 'dataset/8_falling/falling005.mp4': '8_falling', 'dataset/8_falling/falling056.mp4': '8_falling', 'dataset/8_falling/falling025.mp4': '8_falling', 'dataset/8_falling/falling070.mp4': '8_falling', 'dataset/8_falling/falling092.mp4': '8_falling', 'dataset/8_falling/falling088.mp4': '8_falling', 'dataset/8_falling/falling063.mp4': '8_falling', 'dataset/8_falling/falling001.mp4': '8_falling', 'dataset/8_falling/falling002.mp4': '8_falling', 'dataset/8_falling/falling009.mp4': '8_falling', 'dataset/8_falling/falling065.mp4': '8_falling', 'dataset/8_falling/falling021.mp4': '8_falling', 'dataset/8_falling/falling066.mp4': '8_falling', 'dataset/8_falling/falling069.mp4': '8_falling', 'dataset/8_falling/falling110.mp4': '8_falling', 'dataset/8_falling/falling012.mp4': '8_falling', 'dataset/8_falling/falling048.mp4': '8_falling', 'dataset/8_falling/falling018.mp4': '8_falling', 'dataset/8_falling/falling068.mp4': '8_falling', 'dataset/8_falling/falling006.mp4': '8_falling', 'dataset/8_falling/falling090.mp4': '8_falling', 'dataset/8_falling/falling038.mp4': '8_falling', 'dataset/8_falling/falling111.mp4': '8_falling', 'dataset/8_falling/falling115.mp4': '8_falling', 'dataset/8_falling/falling015.mp4': '8_falling', 'dataset/8_falling/falling044.mp4': '8_falling', 'dataset/8_falling/falling093.mp4': '8_falling', 'dataset/8_falling/falling010.mp4': '8_falling', 'dataset/8_falling/falling014.mp4': '8_falling', 'dataset/8_falling/falling003.mp4': '8_falling', 'dataset/8_falling/falling062.mp4': '8_falling', 'dataset/8_falling/falling011.mp4': '8_falling', 'dataset/8_falling/falling008.mp4': '8_falling', 'dataset/9_playing_w_animals/playing_w_animals024.mp4': '9_playing_w_animals', 'dataset/9_playing_w_animals/playing_w_animals033.mp4': '9_playing_w_animals', 'dataset/9_playing_w_animals/playing_w_animals044.mp4': '9_playing_w_animals', 'dataset/9_playing_w_animals/playing_w_animals031.mp4': '9_playing_w_animals', 'dataset/9_playing_w_animals/playing_w_animals028.mp4': '9_playing_w_animals', 'dataset/9_playing_w_animals/playing_w_animals080.mp4': '9_playing_w_animals', 'dataset/9_playing_w_animals/playing_w_animals069.mp4': '9_playing_w_animals', 'dataset/9_playing_w_animals/playing_w_animals006.mp4': '9_playing_w_animals', 'dataset/9_playing_w_animals/playing_w_animals073.mp4': '9_playing_w_animals', 'dataset/9_playing_w_animals/playing_w_animals015.mp4': '9_playing_w_animals', 'dataset/9_playing_w_animals/playing_w_animals007.mp4': '9_playing_w_animals', 'dataset/9_playing_w_animals/playing_w_animals083.mp4': '9_playing_w_animals', 'dataset/9_playing_w_animals/playing_w_animals022.mp4': '9_playing_w_animals', 'dataset/9_playing_w_animals/playing_w_animals074.mp4': '9_playing_w_animals', 'dataset/9_playing_w_animals/playing_w_animals049.mp4': '9_playing_w_animals', 'dataset/9_playing_w_animals/playing_w_animals090.mp4': '9_playing_w_animals', 'dataset/9_playing_w_animals/playing_w_animals052.mp4': '9_playing_w_animals', 'dataset/9_playing_w_animals/playing_w_animals100.mp4': '9_playing_w_animals', 'dataset/9_playing_w_animals/playing_w_animals017.mp4': '9_playing_w_animals', 'dataset/9_playing_w_animals/playing_w_animals045.mp4': '9_playing_w_animals', 'dataset/9_playing_w_animals/playing_w_animals051.mp4': '9_playing_w_animals', 'dataset/9_playing_w_animals/playing_w_animals019.mp4': '9_playing_w_animals', 'dataset/9_playing_w_animals/playing_w_animals043.mp4': '9_playing_w_animals', 'dataset/9_playing_w_animals/playing_w_animals095.mp4': '9_playing_w_animals', 'dataset/9_playing_w_animals/playing_w_animals032.mp4': '9_playing_w_animals', 'dataset/10_playing_w_toy/playing_w_toy045.mp4': '10_playing_w_toy', 'dataset/10_playing_w_toy/playing_w_toy033.mp4': '10_playing_w_toy', 'dataset/10_playing_w_toy/playing_w_toy016.mp4': '10_playing_w_toy', 'dataset/10_playing_w_toy/playing_w_toy043.mp4': '10_playing_w_toy', 'dataset/10_playing_w_toy/playing_w_toy055.mp4': '10_playing_w_toy', 'dataset/10_playing_w_toy/playing_w_toy035.mp4': '10_playing_w_toy', 'dataset/10_playing_w_toy/playing_w_toy012.mp4': '10_playing_w_toy', 'dataset/10_playing_w_toy/playing_w_toy026.mp4': '10_playing_w_toy', 'dataset/10_playing_w_toy/playing_w_toy018.mp4': '10_playing_w_toy', 'dataset/10_playing_w_toy/playing_w_toy009.mp4': '10_playing_w_toy', 'dataset/10_playing_w_toy/playing_w_toy002.mp4': '10_playing_w_toy', 'dataset/10_playing_w_toy/playing_w_toy034.mp4': '10_playing_w_toy', 'dataset/10_playing_w_toy/playing_w_toy044.mp4': '10_playing_w_toy', 'dataset/10_playing_w_toy/playing_w_toy014.mp4': '10_playing_w_toy', 'dataset/10_playing_w_toy/playing_w_toy010.mp4': '10_playing_w_toy', 'dataset/10_playing_w_toy/playing_w_toy040.mp4': '10_playing_w_toy', 'dataset/10_playing_w_toy/playing_w_toy001.mp4': '10_playing_w_toy', 'dataset/10_playing_w_toy/playing_w_toy048.mp4': '10_playing_w_toy', 'dataset/10_playing_w_toy/playing_w_toy017.mp4': '10_playing_w_toy', 'dataset/10_playing_w_toy/playing_w_toy051.mp4': '10_playing_w_toy', 'dataset/10_playing_w_toy/playing_w_toy011.mp4': '10_playing_w_toy', 'dataset/10_playing_w_toy/playing_w_toy054.mp4': '10_playing_w_toy', 'dataset/10_playing_w_toy/playing_w_toy036.mp4': '10_playing_w_toy', 'dataset/10_playing_w_toy/playing_w_toy047.mp4': '10_playing_w_toy', 'dataset/10_playing_w_toy/playing_w_toy053.mp4': '10_playing_w_toy', 'dataset/12_smiling/smiling012.mp4': '12_smiling', 'dataset/12_smiling/smiling043.mp4': '12_smiling', 'dataset/12_smiling/smiling028.mp4': '12_smiling', 'dataset/12_smiling/smiling054.mp4': '12_smiling', 'dataset/12_smiling/smiling023.mp4': '12_smiling', 'dataset/12_smiling/smiling031.mp4': '12_smiling', 'dataset/12_smiling/smiling041.mp4': '12_smiling', 'dataset/12_smiling/smiling033.mp4': '12_smiling', 'dataset/12_smiling/smiling018.mp4': '12_smiling', 'dataset/12_smiling/smiling003.mp4': '12_smiling', 'dataset/12_smiling/smiling042.mp4': '12_smiling', 'dataset/12_smiling/smiling006.mp4': '12_smiling', 'dataset/12_smiling/smiling048.mp4': '12_smiling', 'dataset/12_smiling/smiling016.mp4': '12_smiling', 'dataset/12_smiling/smiling051.mp4': '12_smiling', 'dataset/12_smiling/smiling038.mp4': '12_smiling', 'dataset/12_smiling/smiling027.mp4': '12_smiling', 'dataset/12_smiling/smiling022.mp4': '12_smiling', 'dataset/12_smiling/smiling019.mp4': '12_smiling', 'dataset/12_smiling/smiling053.mp4': '12_smiling', 'dataset/12_smiling/smiling037.mp4': '12_smiling', 'dataset/12_smiling/smiling047.mp4': '12_smiling', 'dataset/12_smiling/smiling030.mp4': '12_smiling', 'dataset/12_smiling/smiling052.mp4': '12_smiling', 'dataset/12_smiling/smiling005.mp4': '12_smiling', 'dataset/12_smiling/smiling007.mp4': '12_smiling', 'dataset/15_walking/walking047.mp4': '15_walking', 'dataset/15_walking/walking060.mp4': '15_walking', 'dataset/15_walking/walking056.mp4': '15_walking', 'dataset/15_walking/walking076.mp4': '15_walking', 'dataset/15_walking/walking037.mp4': '15_walking', 'dataset/15_walking/walking052.mp4': '15_walking', 'dataset/15_walking/walking054.mp4': '15_walking', 'dataset/15_walking/walking035.mp4': '15_walking', 'dataset/15_walking/walking078.mp4': '15_walking', 'dataset/15_walking/walking104.mp4': '15_walking', 'dataset/15_walking/walking097.mp4': '15_walking', 'dataset/15_walking/walking027.mp4': '15_walking', 'dataset/15_walking/walking071.mp4': '15_walking', 'dataset/15_walking/walking017.mp4': '15_walking', 'dataset/15_walking/walking096.mp4': '15_walking', 'dataset/15_walking/walking068.mp4': '15_walking', 'dataset/15_walking/walking069.mp4': '15_walking', 'dataset/15_walking/walking059.mp4': '15_walking', 'dataset/15_walking/walking146.mp4': '15_walking', 'dataset/15_walking/walking110.mp4': '15_walking', 'dataset/15_walking/walking018.mp4': '15_walking', 'dataset/15_walking/walking109.mp4': '15_walking', 'dataset/15_walking/walking034.mp4': '15_walking', 'dataset/15_walking/walking012.mp4': '15_walking', 'dataset/15_walking/walking020.mp4': '15_walking', 'dataset/15_walking/walking070.mp4': '15_walking', 'dataset/15_walking/walking038.mp4': '15_walking', 'dataset/15_walking/walking057.mp4': '15_walking', 'dataset/15_walking/walking124.mp4': '15_walking', 'dataset/15_walking/walking041.mp4': '15_walking', 'dataset/15_walking/walking049.mp4': '15_walking', 'dataset/15_walking/walking055.mp4': '15_walking', 'dataset/15_walking/walking108.mp4': '15_walking', 'dataset/15_walking/walking079.mp4': '15_walking', 'dataset/15_walking/walking040.mp4': '15_walking', 'dataset/15_walking/walking058.mp4': '15_walking', 'dataset/15_walking/walking016.mp4': '15_walking', 'dataset/15_walking/walking028.mp4': '15_walking', 'dataset/15_walking/walking158.mp4': '15_walking', 'dataset/15_walking/walking061.mp4': '15_walking', 'dataset/15_walking/walking077.mp4': '15_walking', 'dataset/15_walking/walking046.mp4': '15_walking', 'dataset/15_walking/walking143.mp4': '15_walking'}\n"
     ]
    }
   ],
   "source": [
    "import os\n",
    "\n",
    "base_path = \"dataset\"\n",
    "\n",
    "folders = [\"2_crawling\",\"3_crying\",\"4_dancing\",\"5_eating\",\"7_falling_slide\",\"8_falling\",\"9_playing_w_animals\",\"10_playing_w_toy\",\"12_smiling\",\"15_walking\"]\n",
    "\n",
    "video_label_dict = {}\n",
    "\n",
    "for folder in folders:\n",
    "    folder_path = os.path.join(base_path, folder)\n",
    "    for file in os.listdir(folder_path):\n",
    "        if file.endswith(\".mp4\"):\n",
    "            video_path = os.path.join(folder_path, file)\n",
    "            video_label_dict[video_path] = folder\n",
    "\n",
    "print(video_label_dict)"
   ]
  },
  {
   "cell_type": "code",
   "execution_count": 2,
   "id": "8d56aa85",
   "metadata": {},
   "outputs": [],
   "source": [
    "video_label_list = list(video_label_dict.items())\n",
    "video_paths = list(video_label_dict.keys())\n",
    "video_labels = list(video_label_dict.values())"
   ]
  },
  {
   "cell_type": "code",
   "execution_count": 3,
   "id": "8870bb88",
   "metadata": {},
   "outputs": [],
   "source": [
    "from sklearn.preprocessing import LabelEncoder\n",
    "label_mapping = {\n",
    "    \"2_crawling\": 0,\n",
    "    \"3_crying\": 1,\n",
    "    \"4_dancing\": 2,\n",
    "    \"5_eating\": 3,\n",
    "    \"7_falling_slide\": 4,\n",
    "    \"8_falling\": 5,\n",
    "    \"9_playing_w_animals\": 6,\n",
    "    \"10_playing_w_toy\": 7,\n",
    "    \"12_smiling\": 8,\n",
    "    \"15_walking\": 9,\n",
    "}\n",
    "label_encoder = LabelEncoder()\n",
    "label_encoder.fit([label_mapping[label] for label in video_labels])\n",
    "labels_encoder = label_encoder.transform([label_mapping[label] for label in video_labels])"
   ]
  },
  {
   "cell_type": "code",
   "execution_count": 4,
   "id": "5b5960dd",
   "metadata": {},
   "outputs": [],
   "source": [
    "from sklearn.model_selection import train_test_split\n",
    "\n",
    "# Split the data into training (70%) and temporary (30%) sets\n",
    "train_video_paths, test_video_paths, train_video_labels, test_video_labels = train_test_split(\n",
    "    video_paths, labels_encoder, test_size=0.3, stratify=video_labels, random_state=42\n",
    ")\n",
    "\n",
    "# Split the temporary data into testing (20% of original data) and validation (10% of original data) sets\n",
    "val_video_paths, test_video_paths, val_video_labels, test_video_labels = train_test_split(\n",
    "    test_video_paths, test_video_labels, test_size=2/3, stratify=test_video_labels, random_state=42\n",
    ")"
   ]
  },
  {
   "cell_type": "code",
   "execution_count": 5,
   "id": "258a0c9b",
   "metadata": {},
   "outputs": [
    {
     "data": {
      "text/plain": [
       "213"
      ]
     },
     "execution_count": 5,
     "metadata": {},
     "output_type": "execute_result"
    }
   ],
   "source": [
    "len(train_video_paths)"
   ]
  },
  {
   "cell_type": "code",
   "execution_count": 6,
   "id": "12cd85c9",
   "metadata": {},
   "outputs": [
    {
     "data": {
      "text/plain": [
       "62"
      ]
     },
     "execution_count": 6,
     "metadata": {},
     "output_type": "execute_result"
    }
   ],
   "source": [
    "len(test_video_paths)"
   ]
  },
  {
   "cell_type": "code",
   "execution_count": 7,
   "id": "d67ffda4",
   "metadata": {},
   "outputs": [
    {
     "data": {
      "text/plain": [
       "30"
      ]
     },
     "execution_count": 7,
     "metadata": {},
     "output_type": "execute_result"
    }
   ],
   "source": [
    "len(val_video_paths)"
   ]
  },
  {
   "cell_type": "code",
   "execution_count": 8,
   "id": "d541bd43",
   "metadata": {},
   "outputs": [],
   "source": [
    "import os\n",
    "import cv2\n",
    "import torch\n",
    "from torch.utils.data import Dataset\n",
    "from torchvision import transforms\n",
    "import numpy as np\n",
    "import torch.nn as nn\n",
    "\n",
    "\n",
    "from PIL import Image\n",
    "import cv2\n",
    "import torch\n",
    "from torch.utils.data import Dataset, DataLoader\n",
    "\n",
    "class VideoDataset(Dataset):\n",
    "    def __init__(self, video_paths, labels, num_frames, transform=None):\n",
    "        self.video_paths = video_paths\n",
    "        self.labels = labels\n",
    "        self.num_frames = num_frames\n",
    "        self.transform = transform\n",
    "\n",
    "    def __len__(self):\n",
    "        return len(self.video_paths)\n",
    "\n",
    "    def __getitem__(self, idx):\n",
    "        video_path = self.video_paths[idx]\n",
    "        selected_frames = self._get_video_frames(video_path)\n",
    "        label = self.labels[idx]\n",
    "        \n",
    "        if self.transform:\n",
    "            preprocessed_frames = [self.transform(frame) for frame in selected_frames]\n",
    "            video_frames = torch.cat(preprocessed_frames, dim=1)\n",
    "\n",
    "\n",
    "        return video_frames, label, video_path\n",
    "\n",
    "#     def _get_video_frames(self, video_path):\n",
    "#         frames = []\n",
    "#         video = cv2.VideoCapture(video_path)\n",
    "#         while len(frames) < self.num_frames:\n",
    "#             ret, frame = video.read()\n",
    "#             if not ret:\n",
    "#                 break\n",
    "#             image = Image.fromarray(frame)\n",
    "#             frames.append(image)\n",
    "#         video.release()\n",
    "#         return frames\n",
    "    \n",
    "    def _get_video_frames(self, video_path):\n",
    "        frames = []\n",
    "        video = cv2.VideoCapture(video_path)\n",
    "        total_frames = int(video.get(cv2.CAP_PROP_FRAME_COUNT))\n",
    "\n",
    "        frame_indices = np.linspace(0, total_frames-1, self.num_frames, dtype=int)\n",
    "\n",
    "        for frame_index in frame_indices:\n",
    "            video.set(cv2.CAP_PROP_POS_FRAMES, frame_index)\n",
    "            ret, frame = video.read()\n",
    "            if not ret:\n",
    "                break\n",
    "            image = Image.fromarray(frame)\n",
    "            frames.append(image)\n",
    "        video.release()\n",
    "        return frames\n"
   ]
  },
  {
   "cell_type": "code",
   "execution_count": 9,
   "id": "aec1f4a5",
   "metadata": {},
   "outputs": [],
   "source": [
    "preprocess = transforms.Compose([\n",
    "    transforms.Resize((224, 224)),\n",
    "    transforms.ToTensor(),\n",
    "    transforms.Normalize(mean=[0.485, 0.456, 0.406], std=[0.229, 0.224, 0.225]),\n",
    "])"
   ]
  },
  {
   "cell_type": "code",
   "execution_count": 10,
   "id": "e2d84229",
   "metadata": {},
   "outputs": [],
   "source": [
    "train_dataset = VideoDataset(train_video_paths, train_video_labels, num_frames=16, transform=preprocess)\n",
    "test_dataset = VideoDataset(test_video_paths, test_video_labels, num_frames=16, transform=preprocess)\n",
    "val_dataset = VideoDataset(val_video_paths, val_video_labels, num_frames=16, transform=preprocess)"
   ]
  },
  {
   "cell_type": "code",
   "execution_count": 11,
   "id": "b10be82a",
   "metadata": {},
   "outputs": [],
   "source": [
    "data_loader_train = torch.utils.data.DataLoader(train_dataset, batch_size=8, shuffle=True)\n",
    "data_loader_test = torch.utils.data.DataLoader(test_dataset, batch_size=8, shuffle=True)\n",
    "data_loader_val = torch.utils.data.DataLoader(val_dataset, batch_size=8, shuffle=True)"
   ]
  },
  {
   "cell_type": "code",
   "execution_count": 12,
   "id": "f30e4851",
   "metadata": {},
   "outputs": [],
   "source": [
    "import torch\n",
    "import torch.nn as nn\n",
    "\n",
    "class ConvNet(nn.Module):\n",
    "    def __init__(self, num_classes):\n",
    "        super(ConvNet, self).__init__()\n",
    "        self.features = nn.Sequential(\n",
    "            nn.Conv2d(3, 16, kernel_size=3, stride=1, padding=1),\n",
    "            nn.ReLU(),\n",
    "            nn.MaxPool2d(kernel_size=2, stride=2),\n",
    "            nn.Dropout(p=0.2),  # Dropout layer\n",
    "            nn.Conv2d(16, 32, kernel_size=3, stride=1, padding=1),\n",
    "            nn.ReLU(),\n",
    "            nn.MaxPool2d(kernel_size=2, stride=2),\n",
    "            nn.Dropout(p=0.2),  # Dropout layer\n",
    "            nn.Conv2d(32, 64, kernel_size=3, stride=1, padding=1),\n",
    "            nn.ReLU(),\n",
    "            nn.MaxPool2d(kernel_size=2, stride=2),\n",
    "            nn.Dropout(p=0.2),  # Dropout layer\n",
    "            nn.Conv2d(64, 128, kernel_size=3, stride=1, padding=1),\n",
    "            nn.ReLU(),\n",
    "            nn.MaxPool2d(kernel_size=2, stride=2),\n",
    "            nn.Dropout(p=0.2),  # Dropout layer\n",
    "        )\n",
    "        self.fc = nn.Linear(128 * 224 * 14, num_classes)\n",
    "\n",
    "    def forward(self, x):\n",
    "        x = self.features(x)\n",
    "        x = x.view(x.size(0), -1)\n",
    "        x = self.fc(x)\n",
    "        return x\n",
    "\n",
    "# Example usage\n",
    "model = ConvNet(num_classes=10)  # Replace `num_classes` with the number of classes in your classification task\n",
    "\n",
    "\n"
   ]
  },
  {
   "cell_type": "code",
   "execution_count": 13,
   "id": "534463f2",
   "metadata": {},
   "outputs": [],
   "source": [
    "criterion = nn.CrossEntropyLoss()\n",
    "optimizer = torch.optim.Adam(model.parameters(), lr=0.0001, weight_decay =0.001)"
   ]
  },
  {
   "cell_type": "code",
   "execution_count": 14,
   "id": "fe60182d",
   "metadata": {},
   "outputs": [
    {
     "name": "stdout",
     "output_type": "stream",
     "text": [
      "Epoch 1/10: Train Loss: 2.5492, Train Acc: 12.68%, Test Loss: 2.1229, Test Acc: 22.58%\n",
      "Epoch 2/10: Train Loss: 1.9984, Train Acc: 30.52%, Test Loss: 1.9053, Test Acc: 35.48%\n",
      "Epoch 3/10: Train Loss: 1.6161, Train Acc: 48.36%, Test Loss: 1.7345, Test Acc: 43.55%\n",
      "Epoch 4/10: Train Loss: 1.1607, Train Acc: 65.26%, Test Loss: 1.6204, Test Acc: 43.55%\n",
      "Epoch 5/10: Train Loss: 0.7659, Train Acc: 83.10%, Test Loss: 1.5645, Test Acc: 38.71%\n",
      "Epoch 6/10: Train Loss: 0.3640, Train Acc: 94.37%, Test Loss: 1.6745, Test Acc: 45.16%\n",
      "Epoch 7/10: Train Loss: 0.1856, Train Acc: 97.65%, Test Loss: 2.1909, Test Acc: 29.03%\n",
      "Epoch 8/10: Train Loss: 0.1169, Train Acc: 98.12%, Test Loss: 1.9802, Test Acc: 33.87%\n",
      "Epoch 9/10: Train Loss: 0.0644, Train Acc: 100.00%, Test Loss: 1.9552, Test Acc: 40.32%\n",
      "Epoch 10/10: Train Loss: 0.0188, Train Acc: 100.00%, Test Loss: 1.8627, Test Acc: 41.94%\n"
     ]
    }
   ],
   "source": [
    "import matplotlib.pyplot as plt\n",
    "# Create lists to store the loss and accuracy values\n",
    "train_loss_values = []\n",
    "train_acc_values = []\n",
    "test_loss_values = []\n",
    "test_acc_values = []\n",
    "\n",
    "# Set device\n",
    "device = torch.device('cuda' if torch.cuda.is_available() else 'cpu')\n",
    "\n",
    "# Move model to the device\n",
    "model = model.to(device)\n",
    "\n",
    "\n",
    "# Set the number of epochs\n",
    "num_epochs = 10\n",
    "\n",
    "# Training loop\n",
    "for epoch in range(num_epochs):\n",
    "    # Training phase\n",
    "    model.train()\n",
    "    running_loss = 0.0\n",
    "    correct_predictions = 0\n",
    "    for inputs, labels, _ in data_loader_train:\n",
    "        inputs = inputs.to(device)\n",
    "        labels = labels.to(device)\n",
    "\n",
    "        # Forward pass\n",
    "        outputs = model(inputs)\n",
    "\n",
    "        # Compute loss\n",
    "        loss = criterion(outputs, labels)\n",
    "\n",
    "        # Backward pass and optimize\n",
    "        optimizer.zero_grad()\n",
    "        loss.backward()\n",
    "        optimizer.step()\n",
    "\n",
    "        # Compute accuracy\n",
    "        _, preds = torch.max(outputs, 1)\n",
    "        correct_predictions += torch.sum(preds == labels)\n",
    "\n",
    "        running_loss += loss.item() * inputs.size(0)\n",
    "\n",
    "    train_loss = running_loss / len(data_loader_train.dataset)\n",
    "    train_acc = correct_predictions.double() / len(data_loader_train.dataset) *100\n",
    "    \n",
    "    train_loss_values.append(train_loss)\n",
    "    train_acc_values.append(train_acc/100)\n",
    "    \n",
    "    # Validation phase\n",
    "    model.eval()\n",
    "    running_loss = 0.0\n",
    "    correct_predictions = 0\n",
    "    with torch.no_grad():\n",
    "        for inputs, labels, _ in data_loader_test:\n",
    "            inputs = inputs.to(device)\n",
    "            labels = labels.to(device)\n",
    "            \n",
    "            outputs = model(inputs)\n",
    "            loss = criterion(outputs, labels)\n",
    "            _, preds = torch.max(outputs, 1)\n",
    "\n",
    "            running_loss += loss.item() * inputs.size(0)\n",
    "            correct_predictions += torch.sum(preds == labels)\n",
    "\n",
    "    test_loss = running_loss / len(data_loader_test.dataset)\n",
    "    test_acc = correct_predictions.double() / len(data_loader_test.dataset) *100\n",
    "    \n",
    "    test_loss_values.append(test_loss)\n",
    "    test_acc_values.append(test_acc/100)\n",
    "    print(f\"Epoch {epoch+1}/{num_epochs}: Train Loss: {train_loss:.4f}, Train Acc: {train_acc:.2f}%, Test Loss: {test_loss:.4f}, Test Acc: {test_acc:.2f}%\")"
   ]
  },
  {
   "cell_type": "code",
   "execution_count": 15,
   "id": "1ce1629a",
   "metadata": {},
   "outputs": [
    {
     "data": {
      "image/png": "[encoded data removed]",
      "text/plain": [
       "<Figure size 1200x400 with 2 Axes>"
      ]
     },
     "metadata": {},
     "output_type": "display_data"
    }
   ],
   "source": [
    "# Plotting the curves\n",
    "epochs = range(1, num_epochs+1)\n",
    "\n",
    "\n",
    "# Plotting loss curves\n",
    "plt.figure(figsize=(12, 4))\n",
    "plt.subplot(1, 2, 1)\n",
    "plt.plot(epochs, train_loss_values, label='Train')\n",
    "plt.plot(epochs, test_loss_values, label='Test')\n",
    "plt.xlabel('Epochs')\n",
    "plt.ylabel('Loss')\n",
    "plt.title('Train and Test Loss')\n",
    "plt.legend()\n",
    "\n",
    "# Plotting accuracy curves\n",
    "plt.subplot(1, 2, 2)\n",
    "plt.plot(epochs, [x.item() for x in train_acc_values], label='Train')\n",
    "plt.plot(epochs, [x.item() for x in test_acc_values], label='Test')\n",
    "plt.xlabel('Epochs')\n",
    "plt.ylabel('Accuracy')\n",
    "plt.title('Train and Test Accuracy')\n",
    "plt.legend()\n",
    "\n",
    "# Display the plot\n",
    "plt.tight_layout()\n",
    "plt.show()\n"
   ]
  },
  {
   "cell_type": "code",
   "execution_count": 16,
   "id": "03281b0b",
   "metadata": {},
   "outputs": [
    {
     "name": "stdout",
     "output_type": "stream",
     "text": [
      "Top-1 Accuracy: 43.33%\n",
      "Top-5 Accuracy: 86.67%\n"
     ]
    }
   ],
   "source": [
    "model.eval()\n",
    "running_loss = 0.0\n",
    "correct_predictions_top1 = 0\n",
    "correct_predictions_top5 = 0\n",
    "\n",
    "with torch.no_grad():\n",
    "    for inputs, labels, _ in data_loader_val:\n",
    "        inputs = inputs.to(device)\n",
    "        labels = labels.to(device)\n",
    "\n",
    "        outputs = model(inputs)\n",
    "        loss = criterion(outputs, labels)\n",
    "        _, preds = torch.max(outputs, 1)\n",
    "\n",
    "        running_loss += loss.item() * inputs.size(0)\n",
    "        correct_predictions_top1 += torch.sum(preds == labels)\n",
    "        \n",
    "        # Calculate top-5 accuracy\n",
    "        _, pred_labels_top5 = torch.topk(outputs, k=5, dim=1)\n",
    "        correct_predictions_top5 += torch.sum(pred_labels_top5 == labels.view(-1, 1))\n",
    "\n",
    "epoch_loss = running_loss / len(data_loader_test.dataset)\n",
    "epoch_acc_top1 = correct_predictions_top1.double() / len(data_loader_val.dataset)\n",
    "epoch_acc_top5 = correct_predictions_top5.double() / len(data_loader_val.dataset)\n",
    "\n",
    "print(f\"Top-1 Accuracy: {epoch_acc_top1.item() * 100:.2f}%\")\n",
    "print(f\"Top-5 Accuracy: {epoch_acc_top5.item() * 100:.2f}%\")"
   ]
  },
  {
   "cell_type": "code",
   "execution_count": 17,
   "id": "53d9fbe2",
   "metadata": {},
   "outputs": [
    {
     "name": "stdout",
     "output_type": "stream",
     "text": [
      "Top-1 Accuracy by True Label:\n",
      "True Label: 0, Accuracy: 66.67%\n",
      "True Label: 1, Accuracy: 66.67%\n",
      "True Label: 2, Accuracy: 0.00%\n",
      "True Label: 3, Accuracy: 50.00%\n",
      "True Label: 4, Accuracy: 50.00%\n",
      "True Label: 5, Accuracy: 75.00%\n",
      "True Label: 6, Accuracy: 33.33%\n",
      "True Label: 7, Accuracy: 0.00%\n",
      "True Label: 8, Accuracy: 33.33%\n",
      "True Label: 9, Accuracy: 25.00%\n"
     ]
    }
   ],
   "source": [
    "model.eval()\n",
    "running_loss = 0.0\n",
    "correct_counts = {}\n",
    "total_counts = {}\n",
    "\n",
    "with torch.no_grad():\n",
    "    for inputs, labels, _ in data_loader_val:\n",
    "        inputs = inputs.to(device)\n",
    "        labels = labels.to(device)\n",
    "\n",
    "        outputs = model(inputs)\n",
    "        loss = criterion(outputs, labels)\n",
    "        _, preds = torch.max(outputs, 1)\n",
    "\n",
    "        running_loss += loss.item() * inputs.size(0)\n",
    "\n",
    "        for true_label, pred_label in zip(labels, preds):\n",
    "            if true_label.item() in total_counts:\n",
    "                total_counts[true_label.item()] += 1\n",
    "            else:\n",
    "                total_counts[true_label.item()] = 1\n",
    "\n",
    "            if true_label.item() == pred_label.item():\n",
    "                if true_label.item() in correct_counts:\n",
    "                    correct_counts[true_label.item()] += 1\n",
    "                else:\n",
    "                    correct_counts[true_label.item()] = 1\n",
    "\n",
    "epoch_loss = running_loss / len(data_loader_val.dataset)\n",
    "\n",
    "print(\"Top-1 Accuracy by True Label:\")\n",
    "for label in sorted(total_counts.keys()):\n",
    "    accuracy = correct_counts.get(label, 0) / total_counts[label]\n",
    "    print(f\"True Label: {label}, Accuracy: {accuracy * 100:.2f}%\")\n"
   ]
  },
  {
   "cell_type": "code",
   "execution_count": 18,
   "id": "c8b9483f",
   "metadata": {},
   "outputs": [
    {
     "name": "stdout",
     "output_type": "stream",
     "text": [
      "Videos with True Label = 2:\n",
      "Video Path: dataset/4_dancing/dancing022.mp4, True Label: 2, Predicted Label: 4\n",
      "Video Path: dataset/4_dancing/dancing010.mp4, True Label: 2, Predicted Label: 1\n"
     ]
    }
   ],
   "source": [
    "model.eval()\n",
    "running_loss = 0.0\n",
    "correct_counts = {}\n",
    "total_counts = {}\n",
    "\n",
    "# Lists to store the video paths, true labels, and predicted labels\n",
    "video_paths = []\n",
    "true_labels = []\n",
    "predicted_labels = []\n",
    "\n",
    "with torch.no_grad():\n",
    "    for inputs, labels, video_path in data_loader_val:\n",
    "        inputs = inputs.to(device)\n",
    "        labels = labels.to(device)\n",
    "\n",
    "        outputs = model(inputs)\n",
    "        loss = criterion(outputs, labels)\n",
    "        _, preds = torch.max(outputs, 1)\n",
    "\n",
    "        running_loss += loss.item() * inputs.size(0)\n",
    "\n",
    "        for video_path, true_label, pred_label in zip(video_path, labels, preds):\n",
    "            if true_label.item() == 2:  # Adjust the condition to match the desired true label\n",
    "                # Append the video path, true label, and predicted label to the respective lists\n",
    "                video_paths.append(video_path)\n",
    "                true_labels.append(true_label.item())\n",
    "                predicted_labels.append(pred_label.item())\n",
    "\n",
    "print(\"Videos with True Label = 2:\")\n",
    "for video_path, true_label, predicted_label in zip(video_paths, true_labels, predicted_labels):\n",
    "    print(f\"Video Path: {video_path}, True Label: {true_label}, Predicted Label: {predicted_label}\")"
   ]
  },
  {
   "cell_type": "code",
   "execution_count": null,
   "id": "23d96fdc",
   "metadata": {},
   "outputs": [],
   "source": []
  },
  {
   "cell_type": "code",
   "execution_count": null,
   "id": "60ae214c",
   "metadata": {},
   "outputs": [],
   "source": []
  },
  {
   "cell_type": "code",
   "execution_count": null,
   "id": "39417395",
   "metadata": {},
   "outputs": [],
   "source": []
  }
 ],
 "metadata": {
  "kernelspec": {
   "display_name": "pytorch",
   "language": "python",
   "name": "pytorch"
  },
  "language_info": {
   "codemirror_mode": {
    "name": "ipython",
    "version": 3
   },
   "file_extension": ".py",
   "mimetype": "text/x-python",
   "name": "python",
   "nbconvert_exporter": "python",
   "pygments_lexer": "ipython3",
   "version": "3.9.16"
  }
 },
 "nbformat": 4,
 "nbformat_minor": 5
}
